{
 "cells": [
  {
   "cell_type": "code",
   "execution_count": 2,
   "metadata": {},
   "outputs": [
    {
     "name": "stdout",
     "output_type": "stream",
     "text": [
      "Requirement already satisfied: fugashi[unidic-lite] in c:\\users\\anave\\anaconda3\\lib\\site-packages (1.1.1)\n",
      "Requirement already satisfied: unidic-lite in c:\\users\\anave\\anaconda3\\lib\\site-packages (from fugashi[unidic-lite]) (1.0.8)\n"
     ]
    }
   ],
   "source": [
    "import sys\n",
    "!{sys.executable} -m pip install fugashi[unidic-lite]"
   ]
  },
  {
   "cell_type": "code",
   "execution_count": 3,
   "metadata": {},
   "outputs": [
    {
     "name": "stdout",
     "output_type": "stream",
     "text": [
      "Requirement already satisfied: pykakasi in c:\\users\\anave\\anaconda3\\lib\\site-packages (2.2.1)\n",
      "Requirement already satisfied: jaconv in c:\\users\\anave\\anaconda3\\lib\\site-packages (from pykakasi) (0.3)\n",
      "Requirement already satisfied: deprecated in c:\\users\\anave\\anaconda3\\lib\\site-packages (from pykakasi) (1.2.13)\n",
      "Requirement already satisfied: wrapt<2,>=1.10 in c:\\users\\anave\\anaconda3\\lib\\site-packages (from deprecated->pykakasi) (1.11.2)\n"
     ]
    }
   ],
   "source": [
    "import sys\n",
    "!{sys.executable} -m pip install pykakasi"
   ]
  },
  {
   "cell_type": "code",
   "execution_count": 4,
   "metadata": {},
   "outputs": [
    {
     "name": "stdout",
     "output_type": "stream",
     "text": [
      "Requirement already satisfied: sudachipy in c:\\users\\anave\\anaconda3\\lib\\site-packages (0.5.4)\n",
      "Requirement already satisfied: sortedcontainers~=2.1.0 in c:\\users\\anave\\anaconda3\\lib\\site-packages (from sudachipy) (2.1.0)\n",
      "Requirement already satisfied: dartsclone~=0.9.0 in c:\\users\\anave\\anaconda3\\lib\\site-packages (from sudachipy) (0.9.0)\n",
      "Requirement already satisfied: Cython in c:\\users\\anave\\anaconda3\\lib\\site-packages (from dartsclone~=0.9.0->sudachipy) (0.29.21)\n"
     ]
    }
   ],
   "source": [
    "import sys\n",
    "!{sys.executable} -m pip install sudachipy "
   ]
  },
  {
   "cell_type": "code",
   "execution_count": 5,
   "metadata": {},
   "outputs": [
    {
     "name": "stdout",
     "output_type": "stream",
     "text": [
      "Requirement already satisfied: sudachidict_full in c:\\users\\anave\\anaconda3\\lib\\site-packages (20201223.post1)\n",
      "Requirement already satisfied: SudachiPy~=0.5.0 in c:\\users\\anave\\anaconda3\\lib\\site-packages (from sudachidict_full) (0.5.4)\n",
      "Requirement already satisfied: sortedcontainers~=2.1.0 in c:\\users\\anave\\anaconda3\\lib\\site-packages (from SudachiPy~=0.5.0->sudachidict_full) (2.1.0)\n",
      "Requirement already satisfied: dartsclone~=0.9.0 in c:\\users\\anave\\anaconda3\\lib\\site-packages (from SudachiPy~=0.5.0->sudachidict_full) (0.9.0)\n",
      "Requirement already satisfied: Cython in c:\\users\\anave\\anaconda3\\lib\\site-packages (from dartsclone~=0.9.0->SudachiPy~=0.5.0->sudachidict_full) (0.29.21)\n"
     ]
    }
   ],
   "source": [
    "import sys\n",
    "!{sys.executable} -m pip install sudachidict_full"
   ]
  },
  {
   "cell_type": "code",
   "execution_count": 6,
   "metadata": {},
   "outputs": [
    {
     "name": "stdout",
     "output_type": "stream",
     "text": [
      "子供 の 時 は 自転 車 に 乗れ ませ ん でし た が 、 今 は 乗れ ます\n"
     ]
    }
   ],
   "source": [
    "import fugashi #tokenizing with fugashi\n",
    "text = \"子供の時は自転車に乗れませんでしたが、今は乗れます\"\n",
    "# The Tagger object holds state about the dictionary.\n",
    "tagger = fugashi.Tagger()\n",
    "words = [word.surface for word in tagger(text)]\n",
    "print(*words)"
   ]
  },
  {
   "cell_type": "code",
   "execution_count": 9,
   "metadata": {},
   "outputs": [
    {
     "data": {
      "text/plain": [
       "'タベ'"
      ]
     },
     "execution_count": 9,
     "metadata": {},
     "output_type": "execute_result"
    }
   ],
   "source": [
    "from sudachipy import tokenizer\n",
    "from sudachipy import dictionary\n",
    "\n",
    "#tokenizing with sudachipy\n",
    "\n",
    "tokenizer_obj = dictionary.Dictionary().create()\n",
    "# 複数粒度分割\n",
    "\n",
    "mode = tokenizer.Tokenizer.SplitMode.C\n",
    "[m.surface() for m in tokenizer_obj.tokenize(\"国家公務員\", mode)]\n",
    "# => ['国家公務員']\n",
    "\n",
    "mode = tokenizer.Tokenizer.SplitMode.B\n",
    "[m.surface() for m in tokenizer_obj.tokenize(\"国家公務員\", mode)]\n",
    "# => ['国家', '公務員']\n",
    "\n",
    "mode = tokenizer.Tokenizer.SplitMode.A\n",
    "[m.surface() for m in tokenizer_obj.tokenize(\"国家公務員\", mode)]\n",
    "# => ['国家', '公務', '員']\n",
    "# 形態素情報\n",
    "\n",
    "m = tokenizer_obj.tokenize(\"食べ\", mode)[0]\n",
    "\n",
    "m.surface() # => '食べ'\n",
    "m.dictionary_form() # => '食べる'\n",
    "m.reading_form() # => 'タベ'\n",
    "#m.part_of_speech() # => ['動詞', '一般', '*', '*', '下一段-バ行', '連用形-一般']\n",
    "# 正規化\n",
    "\n",
    "#tokenizer_obj.tokenize(\"附属\", mode)[0].normalized_form()\n",
    "# => '付属'\n",
    "#tokenizer_obj.tokenize(\"SUMMER\", mode)[0].normalized_form()\n",
    "# => 'サマー'\n",
    "#tokenizer_obj.tokenize(\"シュミレーション\", mode)[0].normalized_form()\n",
    "# => 'シミュレーション'\n"
   ]
  },
  {
   "cell_type": "code",
   "execution_count": null,
   "metadata": {},
   "outputs": [],
   "source": []
  }
 ],
 "metadata": {
  "kernelspec": {
   "display_name": "Python 3",
   "language": "python",
   "name": "python3"
  },
  "language_info": {
   "codemirror_mode": {
    "name": "ipython",
    "version": 3
   },
   "file_extension": ".py",
   "mimetype": "text/x-python",
   "name": "python",
   "nbconvert_exporter": "python",
   "pygments_lexer": "ipython3",
   "version": "3.8.5"
  }
 },
 "nbformat": 4,
 "nbformat_minor": 4
}
